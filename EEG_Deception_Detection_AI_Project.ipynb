{
  "nbformat": 4,
  "nbformat_minor": 0,
  "metadata": {
    "colab": {
      "provenance": []
    },
    "kernelspec": {
      "name": "python3",
      "display_name": "Python 3"
    },
    "language_info": {
      "name": "python"
    }
  },
  "cells": [
    {
      "cell_type": "code",
      "execution_count": 22,
      "metadata": {
        "id": "pdJwiNRONtiX",
        "collapsed": true
      },
      "outputs": [],
      "source": [
        "!pip install -q mne scipy scikit-learn pandas matplotlib seaborn"
      ]
    },
    {
      "cell_type": "code",
      "source": [
        "import mne\n",
        "import scipy\n",
        "import numpy as np\n",
        "import pandas as pd\n",
        "import matplotlib.pyplot as plt\n",
        "from sklearn.ensemble import RandomForestClassifier\n",
        "from mne.filter import filter_data"
      ],
      "metadata": {
        "colab": {
          "base_uri": "https://localhost:8080/"
        },
        "id": "oPCM6rF7NySl",
        "outputId": "980572bb-110a-4cf3-fc2f-e2e3f016aeee",
        "collapsed": true
      },
      "execution_count": 23,
      "outputs": [
        {
          "output_type": "stream",
          "name": "stdout",
          "text": [
            "All libraries imported\n"
          ]
        }
      ]
    },
    {
      "cell_type": "code",
      "source": [
        "from google.colab import files\n",
        "\n",
        "uploaded = files.upload()\n",
        "\n",
        "FILENAME = list(uploaded.keys())[0]\n",
        "print(\"Working with file:\", FILENAME)"
      ],
      "metadata": {
        "colab": {
          "base_uri": "https://localhost:8080/",
          "height": 86
        },
        "id": "gxJfymG3wjEb",
        "outputId": "6f10fdf7-6bd2-44bf-c786-82b0b15bcf30",
        "collapsed": true
      },
      "execution_count": 24,
      "outputs": [
        {
          "output_type": "display_data",
          "data": {
            "text/plain": [
              "<IPython.core.display.HTML object>"
            ],
            "text/html": [
              "\n",
              "     <input type=\"file\" id=\"files-72c1d575-4893-4088-8286-3d1472eed934\" name=\"files[]\" multiple disabled\n",
              "        style=\"border:none\" />\n",
              "     <output id=\"result-72c1d575-4893-4088-8286-3d1472eed934\">\n",
              "      Upload widget is only available when the cell has been executed in the\n",
              "      current browser session. Please rerun this cell to enable.\n",
              "      </output>\n",
              "      <script>// Copyright 2017 Google LLC\n",
              "//\n",
              "// Licensed under the Apache License, Version 2.0 (the \"License\");\n",
              "// you may not use this file except in compliance with the License.\n",
              "// You may obtain a copy of the License at\n",
              "//\n",
              "//      http://www.apache.org/licenses/LICENSE-2.0\n",
              "//\n",
              "// Unless required by applicable law or agreed to in writing, software\n",
              "// distributed under the License is distributed on an \"AS IS\" BASIS,\n",
              "// WITHOUT WARRANTIES OR CONDITIONS OF ANY KIND, either express or implied.\n",
              "// See the License for the specific language governing permissions and\n",
              "// limitations under the License.\n",
              "\n",
              "/**\n",
              " * @fileoverview Helpers for google.colab Python module.\n",
              " */\n",
              "(function(scope) {\n",
              "function span(text, styleAttributes = {}) {\n",
              "  const element = document.createElement('span');\n",
              "  element.textContent = text;\n",
              "  for (const key of Object.keys(styleAttributes)) {\n",
              "    element.style[key] = styleAttributes[key];\n",
              "  }\n",
              "  return element;\n",
              "}\n",
              "\n",
              "// Max number of bytes which will be uploaded at a time.\n",
              "const MAX_PAYLOAD_SIZE = 100 * 1024;\n",
              "\n",
              "function _uploadFiles(inputId, outputId) {\n",
              "  const steps = uploadFilesStep(inputId, outputId);\n",
              "  const outputElement = document.getElementById(outputId);\n",
              "  // Cache steps on the outputElement to make it available for the next call\n",
              "  // to uploadFilesContinue from Python.\n",
              "  outputElement.steps = steps;\n",
              "\n",
              "  return _uploadFilesContinue(outputId);\n",
              "}\n",
              "\n",
              "// This is roughly an async generator (not supported in the browser yet),\n",
              "// where there are multiple asynchronous steps and the Python side is going\n",
              "// to poll for completion of each step.\n",
              "// This uses a Promise to block the python side on completion of each step,\n",
              "// then passes the result of the previous step as the input to the next step.\n",
              "function _uploadFilesContinue(outputId) {\n",
              "  const outputElement = document.getElementById(outputId);\n",
              "  const steps = outputElement.steps;\n",
              "\n",
              "  const next = steps.next(outputElement.lastPromiseValue);\n",
              "  return Promise.resolve(next.value.promise).then((value) => {\n",
              "    // Cache the last promise value to make it available to the next\n",
              "    // step of the generator.\n",
              "    outputElement.lastPromiseValue = value;\n",
              "    return next.value.response;\n",
              "  });\n",
              "}\n",
              "\n",
              "/**\n",
              " * Generator function which is called between each async step of the upload\n",
              " * process.\n",
              " * @param {string} inputId Element ID of the input file picker element.\n",
              " * @param {string} outputId Element ID of the output display.\n",
              " * @return {!Iterable<!Object>} Iterable of next steps.\n",
              " */\n",
              "function* uploadFilesStep(inputId, outputId) {\n",
              "  const inputElement = document.getElementById(inputId);\n",
              "  inputElement.disabled = false;\n",
              "\n",
              "  const outputElement = document.getElementById(outputId);\n",
              "  outputElement.innerHTML = '';\n",
              "\n",
              "  const pickedPromise = new Promise((resolve) => {\n",
              "    inputElement.addEventListener('change', (e) => {\n",
              "      resolve(e.target.files);\n",
              "    });\n",
              "  });\n",
              "\n",
              "  const cancel = document.createElement('button');\n",
              "  inputElement.parentElement.appendChild(cancel);\n",
              "  cancel.textContent = 'Cancel upload';\n",
              "  const cancelPromise = new Promise((resolve) => {\n",
              "    cancel.onclick = () => {\n",
              "      resolve(null);\n",
              "    };\n",
              "  });\n",
              "\n",
              "  // Wait for the user to pick the files.\n",
              "  const files = yield {\n",
              "    promise: Promise.race([pickedPromise, cancelPromise]),\n",
              "    response: {\n",
              "      action: 'starting',\n",
              "    }\n",
              "  };\n",
              "\n",
              "  cancel.remove();\n",
              "\n",
              "  // Disable the input element since further picks are not allowed.\n",
              "  inputElement.disabled = true;\n",
              "\n",
              "  if (!files) {\n",
              "    return {\n",
              "      response: {\n",
              "        action: 'complete',\n",
              "      }\n",
              "    };\n",
              "  }\n",
              "\n",
              "  for (const file of files) {\n",
              "    const li = document.createElement('li');\n",
              "    li.append(span(file.name, {fontWeight: 'bold'}));\n",
              "    li.append(span(\n",
              "        `(${file.type || 'n/a'}) - ${file.size} bytes, ` +\n",
              "        `last modified: ${\n",
              "            file.lastModifiedDate ? file.lastModifiedDate.toLocaleDateString() :\n",
              "                                    'n/a'} - `));\n",
              "    const percent = span('0% done');\n",
              "    li.appendChild(percent);\n",
              "\n",
              "    outputElement.appendChild(li);\n",
              "\n",
              "    const fileDataPromise = new Promise((resolve) => {\n",
              "      const reader = new FileReader();\n",
              "      reader.onload = (e) => {\n",
              "        resolve(e.target.result);\n",
              "      };\n",
              "      reader.readAsArrayBuffer(file);\n",
              "    });\n",
              "    // Wait for the data to be ready.\n",
              "    let fileData = yield {\n",
              "      promise: fileDataPromise,\n",
              "      response: {\n",
              "        action: 'continue',\n",
              "      }\n",
              "    };\n",
              "\n",
              "    // Use a chunked sending to avoid message size limits. See b/62115660.\n",
              "    let position = 0;\n",
              "    do {\n",
              "      const length = Math.min(fileData.byteLength - position, MAX_PAYLOAD_SIZE);\n",
              "      const chunk = new Uint8Array(fileData, position, length);\n",
              "      position += length;\n",
              "\n",
              "      const base64 = btoa(String.fromCharCode.apply(null, chunk));\n",
              "      yield {\n",
              "        response: {\n",
              "          action: 'append',\n",
              "          file: file.name,\n",
              "          data: base64,\n",
              "        },\n",
              "      };\n",
              "\n",
              "      let percentDone = fileData.byteLength === 0 ?\n",
              "          100 :\n",
              "          Math.round((position / fileData.byteLength) * 100);\n",
              "      percent.textContent = `${percentDone}% done`;\n",
              "\n",
              "    } while (position < fileData.byteLength);\n",
              "  }\n",
              "\n",
              "  // All done.\n",
              "  yield {\n",
              "    response: {\n",
              "      action: 'complete',\n",
              "    }\n",
              "  };\n",
              "}\n",
              "\n",
              "scope.google = scope.google || {};\n",
              "scope.google.colab = scope.google.colab || {};\n",
              "scope.google.colab._files = {\n",
              "  _uploadFiles,\n",
              "  _uploadFilesContinue,\n",
              "};\n",
              "})(self);\n",
              "</script> "
            ]
          },
          "metadata": {}
        },
        {
          "output_type": "stream",
          "name": "stdout",
          "text": [
            "Saving Player_sub06_Observer_sub03.mat to Player_sub06_Observer_sub03 (2).mat\n",
            "Working with file: Player_sub06_Observer_sub03 (2).mat\n"
          ]
        }
      ]
    },
    {
      "cell_type": "code",
      "source": [
        "import scipy.io as sio\n",
        "mat = sio.loadmat(FILENAME, squeeze_me=True, struct_as_record=False)\n",
        "player = mat['player']\n",
        "\n",
        "fs          = player.fs\n",
        "eeg_raw     = player.x\n",
        "label_mat   = player.y\n",
        "class_names = [str(c) for c in player.className.squeeze()]\n",
        "\n",
        "print(\"Sampling rate fs          :\", fs)\n",
        "print(\"EEG raw shape             :\", eeg_raw.shape)\n",
        "print(\"Label matrix shape        :\", label_mat.shape)\n",
        "print(\"Class names (row order)   :\", class_names)\n",
        "\n",
        "labels = label_mat.argmax(axis=0).astype(int)\n",
        "print(\"Labels vector shape       :\", labels.shape,\n",
        "      \"unique codes:\", np.unique(labels))"
      ],
      "metadata": {
        "colab": {
          "base_uri": "https://localhost:8080/"
        },
        "id": "0ohonp_cyd3M",
        "outputId": "f8120026-d090-47e2-e2f5-e599e7edc302",
        "collapsed": true
      },
      "execution_count": 25,
      "outputs": [
        {
          "output_type": "stream",
          "name": "stdout",
          "text": [
            "Sampling rate fs          : 100\n",
            "EEG raw shape             : (350, 30, 484)\n",
            "Label matrix shape        : (4, 484)\n",
            "Class names (row order)   : ['sponL', 'sponT', 'instL', 'instT']\n",
            "Labels vector shape       : (484,) unique codes: [0 1 2 3]\n"
          ]
        }
      ]
    },
    {
      "cell_type": "code",
      "source": [
        "eeg_data = np.transpose(eeg_raw, (2, 1, 0))\n",
        "print(\"eeg_data shape (T, C, time):\", eeg_data.shape)"
      ],
      "metadata": {
        "colab": {
          "base_uri": "https://localhost:8080/"
        },
        "id": "ZpVCa85CyigU",
        "outputId": "f3d7df4c-fcd2-4c15-94a2-27393f62044b",
        "collapsed": true
      },
      "execution_count": 26,
      "outputs": [
        {
          "output_type": "stream",
          "name": "stdout",
          "text": [
            "eeg_data shape (T, C, time): (484, 30, 350)\n"
          ]
        }
      ]
    },
    {
      "cell_type": "code",
      "source": [
        "from mne.filter import filter_data\n",
        "\n",
        "sfreq = fs\n",
        "reshaped = eeg_data.reshape(-1, eeg_data.shape[2])\n",
        "filtered = filter_data(reshaped, sfreq=sfreq, l_freq=1., h_freq=40., verbose=False)\n",
        "eeg_filt = filtered.reshape(eeg_data.shape)\n",
        "\n",
        "print(\"Filtered EEG shape:\", eeg_filt.shape)"
      ],
      "metadata": {
        "colab": {
          "base_uri": "https://localhost:8080/"
        },
        "id": "eZxyv3mLyrRA",
        "outputId": "8501341f-e4ba-4095-e736-ef986067704c",
        "collapsed": true
      },
      "execution_count": 27,
      "outputs": [
        {
          "output_type": "stream",
          "name": "stdout",
          "text": [
            "Filtered EEG shape: (484, 30, 350)\n"
          ]
        }
      ]
    },
    {
      "cell_type": "code",
      "source": [
        "import mne\n",
        "\n",
        "bands = {\n",
        "    \"theta\": (4, 8),\n",
        "    \"alpha\": (8, 13),\n",
        "    \"beta\" : (13, 30),\n",
        "    \"gamma\": (30, 40)\n",
        "}\n",
        "\n",
        "n_bands   = len(bands)\n",
        "n_trials  = eeg_filt.shape[0]\n",
        "n_chans   = eeg_filt.shape[1]\n",
        "feat_bp   = np.zeros((n_trials, n_chans * n_bands))\n",
        "\n",
        "for b_idx, (band_name, (fmin, fmax)) in enumerate(bands.items()):\n",
        "    psd, freqs = mne.time_frequency.psd_array_welch(\n",
        "        eeg_filt, sfreq=sfreq, fmin=fmin, fmax=fmax,\n",
        "        n_fft=256, verbose=False\n",
        "    )\n",
        "    band_power = psd.mean(axis=2)\n",
        "    feat_bp[:, b_idx*n_chans:(b_idx+1)*n_chans] = band_power\n",
        "\n",
        "print(\"Band‑power feature matrix:\", feat_bp.shape)"
      ],
      "metadata": {
        "colab": {
          "base_uri": "https://localhost:8080/"
        },
        "id": "4ZBP21CSzNdu",
        "outputId": "c276e537-544c-48dc-c854-091bce66c796",
        "collapsed": true
      },
      "execution_count": 28,
      "outputs": [
        {
          "output_type": "stream",
          "name": "stdout",
          "text": [
            "Band‑power feature matrix: (484, 120)\n"
          ]
        }
      ]
    },
    {
      "cell_type": "code",
      "source": [
        "X_bp = feat_bp[mask]\n",
        "y_bp = labels[mask]\n",
        "\n",
        "X_train, X_test, y_train, y_test = train_test_split(\n",
        "    X_bp, y_bp, test_size=0.2, random_state=42, stratify=y_bp)\n",
        "\n",
        "clf_bp = RandomForestClassifier(\n",
        "    n_estimators=400, max_depth=None, random_state=42)\n",
        "clf_bp.fit(X_train, y_train)\n",
        "\n",
        "y_pred_bp = clf_bp.predict(X_test)\n",
        "print(classification_report(\n",
        "    y_test, y_pred_bp,\n",
        "    target_names=[class_names[0], class_names[1]]))\n",
        "\n",
        "ConfusionMatrixDisplay.from_estimator(\n",
        "    clf_bp, X_test, y_test,\n",
        "    display_labels=[class_names[0], class_names[1]])\n",
        "plt.show()\n",
        "\n",
        "plt.savefig(\"confmat.png\", dpi=300, bbox_inches=\"tight\")"
      ],
      "metadata": {
        "colab": {
          "base_uri": "https://localhost:8080/",
          "height": 619
        },
        "id": "FpIAVPryzZIt",
        "outputId": "871ecacf-ff20-49ab-ff66-e52e69035f93",
        "collapsed": true
      },
      "execution_count": 30,
      "outputs": [
        {
          "output_type": "stream",
          "name": "stdout",
          "text": [
            "              precision    recall  f1-score   support\n",
            "\n",
            "       sponL       0.63      0.73      0.68        26\n",
            "       sponT       0.63      0.52      0.57        23\n",
            "\n",
            "    accuracy                           0.63        49\n",
            "   macro avg       0.63      0.63      0.62        49\n",
            "weighted avg       0.63      0.63      0.63        49\n",
            "\n"
          ]
        },
        {
          "output_type": "display_data",
          "data": {
            "text/plain": [
              "<Figure size 640x480 with 2 Axes>"
            ],
            "image/png": "[encoded data removed]"
          },
          "metadata": {}
        },
        {
          "output_type": "display_data",
          "data": {
            "text/plain": [
              "<Figure size 640x480 with 0 Axes>"
            ]
          },
          "metadata": {}
        }
      ]
    }
  ]
}